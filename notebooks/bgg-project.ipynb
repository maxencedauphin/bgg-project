{
 "cells": [
  {
   "attachments": {
    "fe6f198c-47f8-4c54-a4dd-c08a5388b0c1.png": {
     "image/png": "[encoded data removed]"
    }
   },
   "cell_type": "markdown",
   "id": "9a577708-df9a-469d-944c-1eb0ecde1777",
   "metadata": {},
   "source": [
    "# 🎲 Board Games Analysis Project 🎲\n",
    "----\n",
    "\n",
    "![image.png](attachment:fe6f198c-47f8-4c54-a4dd-c08a5388b0c1.png)\n",
    "\n",
    "The **Board Game Analysis** project aims to explore and analyze data from **[BoardGameGeek](https://boardgamegeek.com/)** (also known as **BGG**), one of the largest online communities for board game enthusiasts. \n",
    "\n",
    "This project will delve into the characteristics of board games and their relationships with user ratings, providing insights into what makes a game highly rated and popular.\n",
    "\n",
    "#### 🚀 Authors : Maxence Dauphin, Bernhard Riemer, Mónica Costa, Tahar Guenfoud, Konstantin Shapovalov\n",
    "#### 🎯 Batch #1835 Data Science Flex\n",
    "\n"
   ]
  },
  {
   "cell_type": "markdown",
   "id": "8bf0f5f1-e089-4f18-b3d8-1944de7a8e55",
   "metadata": {},
   "source": [
    "# Importing Libraries\n",
    "------"
   ]
  },
  {
   "cell_type": "code",
   "execution_count": null,
   "id": "cd656441-42ea-499e-bb2a-3bb061b84917",
   "metadata": {},
   "outputs": [],
   "source": [
    "import os\n",
    "import subprocess\n",
    "import re\n",
    "\n",
    "import numpy as np\n",
    "import pandas as pd\n",
    "pd.options.display.max_columns = None\n",
    "\n",
    "import warnings\n",
    "warnings.filterwarnings(\"ignore\")\n",
    "\n",
    "import matplotlib.pyplot as plt\n",
    "from matplotlib import colors\n",
    "import seaborn as sns\n",
    "\n",
    "from sklearn import metrics\n",
    "from sklearn.model_selection import train_test_split, cross_validate, cross_val_score\n",
    "from sklearn.impute import SimpleImputer, KNNImputer\n",
    "from sklearn.preprocessing import MinMaxScaler, StandardScaler, RobustScaler\n",
    "from sklearn.preprocessing import OrdinalEncoder, OneHotEncoder\n",
    "from sklearn.pipeline import Pipeline, make_pipeline\n",
    "from sklearn.compose import ColumnTransformer, make_column_transformer, make_column_selector\n",
    "from sklearn import set_config; set_config(display=\"diagram\")\n",
    "from sklearn.base import TransformerMixin, BaseEstimator\n",
    "\n",
    "from sklearn.metrics import make_scorer\n",
    "from sklearn.metrics import mean_squared_error, mean_squared_log_error\n",
    "from sklearn.model_selection import GridSearchCV, RandomizedSearchCV\n",
    "from sklearn.linear_model import Ridge, Lasso, LinearRegression, ElasticNet\n",
    "from sklearn.linear_model import SGDRegressor\n",
    "from sklearn.neighbors import KNeighborsRegressor\n",
    "from sklearn.tree import DecisionTreeRegressor\n",
    "from sklearn.svm import SVR\n",
    "from sklearn.ensemble import RandomForestRegressor, AdaBoostRegressor, GradientBoostingRegressor\n",
    "from sklearn.ensemble import VotingRegressor, StackingRegressor\n",
    "from xgboost import XGBRegressor\n",
    "from sklearn.feature_extraction.text import CountVectorizer"
   ]
  },
  {
   "cell_type": "markdown",
   "id": "aa10e573-78bd-4a57-8087-7f0637bc3a7c",
   "metadata": {},
   "source": [
    "# Load data from Kaggle\n",
    "---"
   ]
  },
  {
   "cell_type": "markdown",
   "id": "d98df20a",
   "metadata": {},
   "source": [
    "⬇️ **Getting the data**\n",
    "\n",
    "The project is based on a **BoardGameGeek** dataset coming from [Kaggle](https://www.kaggle.com/api/v1/datasets/download/melissamonfared/board-games). \n",
    "\n",
    "Once downloaded, the *archive.zip* obtained is stored inside the **raw_data** folder. Then, the archive is unzipped in order to extract the dataset as a *.csv file*. If the archive path already exists, we can ignore the download and re-use our previous data."
   ]
  },
  {
   "cell_type": "code",
   "execution_count": null,
   "id": "852b719d-9322-4894-afa1-511ce49f0bdc",
   "metadata": {},
   "outputs": [],
   "source": [
    "# Define the path to raw_data repo\n",
    "raw_data_path = \"~/code/maxencedauphin/bgg-project/raw_data\"\n",
    "raw_data_path = os.path.expanduser(raw_data_path)\n",
    "\n",
    "# Define the url to Kaggle data\n",
    "kaggle_data_path = \"https://www.kaggle.com/api/v1/datasets/download/melissamonfared/board-games\"\n",
    "\n",
    "# Define the archive path\n",
    "archive_path = os.path.join(raw_data_path, \"archive.zip\")\n",
    "\n",
    "# Check if the archive exists\n",
    "if os.path.exists(archive_path):\n",
    "    try:\n",
    "        print(\"Archive exists. Please enter 'yes' to reload data or 'no' to keep existing data.\")\n",
    "        user_input = input(\"Enter your choice (yes/no): \")\n",
    "\n",
    "        if user_input.lower() == \"yes\":\n",
    "            subprocess.run(f\"curl -L -o {archive_path} {kaggle_data_path}\", shell=True)\n",
    "            subprocess.run(f\"unzip -o {archive_path} -d {raw_data_path}\", shell=True)\n",
    "        else:\n",
    "            print(\"Keeping existing data.\")\n",
    "    except EOFError:\n",
    "        print(\"User input not supported in this environment. Proceeding with default action.\")\n",
    "        print(\"Keeping existing data.\")\n",
    "else:\n",
    "    subprocess.run(f\"curl -L -o {archive_path} {kaggle_data_path}\", shell=True)\n",
    "    subprocess.run(f\"unzip {archive_path} -d {raw_data_path}\", shell=True)"
   ]
  },
  {
   "cell_type": "markdown",
   "id": "e4320fc2",
   "metadata": {},
   "source": [
    "The dataset (named df) can be open through the *read_csv* method of **pandas** :"
   ]
  },
  {
   "cell_type": "code",
   "execution_count": null,
   "id": "32a75994-a866-4003-8e11-32f901598005",
   "metadata": {},
   "outputs": [],
   "source": [
    "filepath = \"~/code/maxencedauphin/bgg-project/raw_data/BGG_Data_Set.csv\"\n",
    "df_orig = pd.read_csv(filepath, encoding='ISO-8859-1')\n",
    "df = df_orig.copy()"
   ]
  },
  {
   "cell_type": "markdown",
   "id": "746e7173",
   "metadata": {},
   "source": [
    "Once the dataset loaded, we can start exploring the data we have ! 🔎"
   ]
  },
  {
   "cell_type": "markdown",
   "id": "84fde446-8493-466b-82a5-29ea8611c3d2",
   "metadata": {},
   "source": [
    "# Exploratory Data Analysis (EDA)\n",
    "---"
   ]
  },
  {
   "cell_type": "markdown",
   "id": "360501ac",
   "metadata": {},
   "source": [
    "⬇️ **Exploratory Data analysis** \n",
    "\n",
    "Let's get familiar with the dataset first :\n",
    "- How does it look like ?\n",
    "- What are the rows ? \n",
    "- What are the columns ?\n",
    "- What is the shape of the dataset ?\n"
   ]
  },
  {
   "cell_type": "code",
   "execution_count": null,
   "id": "c15f9f01-450c-4db2-9f02-00911e9d7323",
   "metadata": {},
   "outputs": [],
   "source": [
    "df.head(2)"
   ]
  },
  {
   "cell_type": "code",
   "execution_count": null,
   "id": "c9cd834a-231e-4f94-a7b9-b0d40da22e10",
   "metadata": {},
   "outputs": [],
   "source": [
    "rows, col = df.shape\n",
    "print(f\"Total rows : {rows}, Total columns : {col}\")"
   ]
  },
  {
   "cell_type": "markdown",
   "id": "11a575cf",
   "metadata": {},
   "source": [
    "Is there any duplicates inside the dataset ?"
   ]
  },
  {
   "cell_type": "code",
   "execution_count": null,
   "id": "46c6566c-bcc2-4ed9-9a2f-4c3e3de18e6d",
   "metadata": {},
   "outputs": [],
   "source": [
    "# DUPLICATES\n",
    "df.duplicated().sum()"
   ]
  },
  {
   "cell_type": "code",
   "execution_count": null,
   "id": "9be9badf-7b63-421d-88e1-237839a87a9c",
   "metadata": {},
   "outputs": [],
   "source": [
    "df.info()"
   ]
  },
  {
   "cell_type": "code",
   "execution_count": null,
   "id": "99d53209-babf-4084-aafc-7560ff9d550f",
   "metadata": {},
   "outputs": [],
   "source": [
    "df.dtypes.value_counts()"
   ]
  },
  {
   "cell_type": "code",
   "execution_count": null,
   "id": "baa50437-b6cd-40ae-a270-229797f3c3b3",
   "metadata": {},
   "outputs": [],
   "source": [
    "df.select_dtypes(include=[\"object\"]).nunique().sort_values(ascending=False)"
   ]
  },
  {
   "cell_type": "code",
   "execution_count": null,
   "id": "37abdb4f-b7f4-4cfa-bcb2-a53b647374aa",
   "metadata": {},
   "outputs": [],
   "source": [
    "df.select_dtypes(include=[\"float64\"]).nunique().sort_values(ascending=False)"
   ]
  },
  {
   "cell_type": "code",
   "execution_count": null,
   "id": "41c2c2a3-0655-4bcd-b07e-f6bc4f32957a",
   "metadata": {},
   "outputs": [],
   "source": [
    "df.select_dtypes(include=[\"int64\"]).nunique().sort_values(ascending=False)"
   ]
  },
  {
   "cell_type": "code",
   "execution_count": null,
   "id": "e7cef1b7-9a51-414c-92bd-b0bc030e8f68",
   "metadata": {},
   "outputs": [],
   "source": [
    "df.describe()"
   ]
  },
  {
   "cell_type": "markdown",
   "id": "ba302a32-ab21-4468-9c49-506475708671",
   "metadata": {},
   "source": [
    "#### 🤔 My reflections:\n",
    "\n",
    "- convert column names to lowercase and replace spaces with underscores to facilitate using pandas df.name syntax\n",
    "- remove the game ID column as it does not provide inherent information about the game's quality or rating\n",
    "- remove rows where the value for owned_users is NaN\n",
    "- replace missing values in the mechanics and domains columns with \"unspecified\"\n",
    "- rework mechanics and domains columns which contains a list of strings\n",
    "- we have numerous categorical values to encode: 19,974 for name, 7,379 for mechanics, and 40 for domains. To maintain a simple basic model, I removed the name column\n",
    "\n",
    "TODO\n",
    "- we need to rework the year_published column to handle NaN, 0, and negative values, which represent very old games dated \"BC\"\n",
    "- we need to transform the list values in mechanics and domains into something more meaningful\n",
    "- ...\n"
   ]
  },
  {
   "cell_type": "markdown",
   "id": "61a75139-c20d-4451-9bf7-d16004dc9900",
   "metadata": {},
   "source": [
    "#### 🛍️ Convert column names to lowercase and replace spaces with underscores to facilitate using pandas df.name syntax"
   ]
  },
  {
   "cell_type": "code",
   "execution_count": null,
   "id": "2925c183-9b62-442b-b354-39f20f62c1a5",
   "metadata": {},
   "outputs": [],
   "source": [
    "df.columns = [col.lower().replace(' ', '_') for col in df.columns]\n",
    "\n",
    "# Output the transformed column names\n",
    "print(df.columns)"
   ]
  },
  {
   "cell_type": "markdown",
   "id": "06b5878e-bacd-49c4-b0de-57fddcc85759",
   "metadata": {},
   "source": [
    "#### 🛍️ Remove the game ID column as it does not provide inherent information about the game's quality or rating"
   ]
  },
  {
   "cell_type": "code",
   "execution_count": null,
   "id": "7fa9b008-9d3c-4abb-beb5-38194dcd0409",
   "metadata": {},
   "outputs": [],
   "source": [
    "rows, col = df.shape\n",
    "print(f\"Total rows : {rows}, Total columns : {col}\")"
   ]
  },
  {
   "cell_type": "code",
   "execution_count": null,
   "id": "86898201-f619-427f-a9cc-b6b6a63ecae0",
   "metadata": {},
   "outputs": [],
   "source": [
    "df.drop(columns=['id'], inplace=True)"
   ]
  },
  {
   "cell_type": "code",
   "execution_count": null,
   "id": "128582b2-cd16-46d2-94e6-c3effc588f53",
   "metadata": {},
   "outputs": [],
   "source": [
    "rows, col = df.shape\n",
    "print(f\"Total rows : {rows}, Total columns : {col}\")"
   ]
  },
  {
   "cell_type": "markdown",
   "id": "1a48ba30-f47d-48d7-9b17-9f4d882a7dbd",
   "metadata": {},
   "source": [
    "#### 🛍️ Remove rows where the value for owned_users is NaN"
   ]
  },
  {
   "cell_type": "code",
   "execution_count": null,
   "id": "c2cfb59f-d0e6-49a5-b8ee-7a569c9ac1cd",
   "metadata": {},
   "outputs": [],
   "source": [
    "df = df[df['owned_users'].notna()]"
   ]
  },
  {
   "cell_type": "code",
   "execution_count": null,
   "id": "f55fabed-75ce-4ef9-9c92-b691db0e2a67",
   "metadata": {},
   "outputs": [],
   "source": [
    "rows, col = df.shape\n",
    "print(f\"Total rows : {rows}, Total columns : {col}\")"
   ]
  },
  {
   "cell_type": "markdown",
   "id": "7d1b1b93-2d92-4931-a675-f72db8f2e813",
   "metadata": {},
   "source": [
    "#### 🛍️ Replace missing values in the mechanics and domains columns with \"unspecified\""
   ]
  },
  {
   "cell_type": "code",
   "execution_count": null,
   "id": "a11f7514-aa75-4f68-8001-31cb94d65120",
   "metadata": {},
   "outputs": [],
   "source": [
    "print(\"Columns with missing values:\", df.columns[df.isnull().any()])"
   ]
  },
  {
   "cell_type": "markdown",
   "id": "939d4755",
   "metadata": {},
   "source": [
    "Changing any NA value inside the mechanics / domains column into an \"unspecified\" mechanic / domain value. This ensure to not deal with NA values."
   ]
  },
  {
   "cell_type": "code",
   "execution_count": null,
   "id": "54a39ed2-dd24-497c-84b7-cd9ba283d18c",
   "metadata": {},
   "outputs": [],
   "source": [
    "df[\"mechanics\"] = df[\"mechanics\"].fillna(\"unspecified mechanic\")\n",
    "df[\"domains\"] = df[\"domains\"].fillna(\"unspecified domain\")"
   ]
  },
  {
   "cell_type": "markdown",
   "id": "34eb3a5e",
   "metadata": {},
   "source": [
    "\n",
    "**Note :** Since these columns values will be used as columns later, we should not use the same word to design an undertermined value. Thus, we specify either mechanic or domain behind \"unspecified\"."
   ]
  },
  {
   "cell_type": "code",
   "execution_count": null,
   "id": "823b0185-1cfb-46dd-8a0a-c214950461fe",
   "metadata": {},
   "outputs": [],
   "source": [
    "print(\"Columns with missing values:\", df.columns[df.isnull().any()])"
   ]
  },
  {
   "cell_type": "markdown",
   "id": "127a0a8b-767e-40d4-a095-254bbb15fa49",
   "metadata": {},
   "source": [
    "#### 🛍️ Rework mechanics and domains columns which contains a list of strings"
   ]
  },
  {
   "cell_type": "code",
   "execution_count": null,
   "id": "47f3582f",
   "metadata": {},
   "outputs": [],
   "source": [
    "df.mechanics"
   ]
  },
  {
   "cell_type": "code",
   "execution_count": null,
   "id": "835d2750-516e-4a51-913d-6b5883bcb5ef",
   "metadata": {},
   "outputs": [],
   "source": [
    "def clean(text):\n",
    "    \"\"\"\n",
    "    This function aims to clean a list of words. \"\n",
    "    It takes a string of words separated by a comma as an input,\n",
    "    and returns the same string, but without space or slashes inbetween words.\n",
    "    Ex :\n",
    "    - Before a clean function: Action Drafting, Area Majority / Influence, ...\n",
    "    - After a clean function: Action Drafting,Area Majority,Influence,...\n",
    "    \"\"\"\n",
    "    # This part replace empty words between commas, and separate slashed words by a comma\n",
    "    cln = re.sub(', ,', ' ', str(text))\n",
    "    cln = cln.replace(\" /\",\",\")\n",
    "    cln = cln.replace(\"/\",\",\")\n",
    "    #cln = cln.lower() # if it is case sensitive, might be good to lowercase.\n",
    "\n",
    "    # This part enable to separate and join again the slashed words, and to get rid of spaces after the comma\n",
    "    \"\"\"\n",
    "    Ex : 'Action', 'Drafting,...', -> 'Action Drafting,...'\n",
    "    \"\"\"\n",
    "    cln = cln.split()\n",
    "    cln = ' '.join(cln)\n",
    "    cln = cln.split(', ')\n",
    "    cln = ','.join(cln)\n",
    "    return cln\n"
   ]
  },
  {
   "cell_type": "markdown",
   "id": "0433dd8f",
   "metadata": {},
   "source": [
    "Below an example of the clean function doing : "
   ]
  },
  {
   "cell_type": "code",
   "execution_count": null,
   "id": "cdbe2087",
   "metadata": {},
   "outputs": [],
   "source": [
    "print(\"Before a clean function:\\n\", df_orig.Mechanics.iloc[4])\n",
    "print(\"After a clean function:\\n\", clean(df_orig.Mechanics.iloc[4]))"
   ]
  },
  {
   "cell_type": "markdown",
   "id": "67a765e5",
   "metadata": {},
   "source": [
    "We can apply the clean functions to both **mechanics** and **domains** columns : "
   ]
  },
  {
   "cell_type": "code",
   "execution_count": null,
   "id": "b53e78bd",
   "metadata": {},
   "outputs": [],
   "source": [
    "df[\"mechanics\"] = df[\"mechanics\"].apply(clean)\n",
    "df[\"domains\"] = df[\"domains\"].apply(clean)"
   ]
  },
  {
   "cell_type": "markdown",
   "id": "c4de3010",
   "metadata": {},
   "source": [
    "Finally, we have a clean string of words separated by just a comma in each row :"
   ]
  },
  {
   "cell_type": "code",
   "execution_count": null,
   "id": "ef12c8bc",
   "metadata": {},
   "outputs": [],
   "source": [
    "print(\"Mechanics column :\\n\", df.mechanics.head(5))\n",
    "print(\"\\nDomains column :\\n\",df.domains.head(5))"
   ]
  },
  {
   "cell_type": "markdown",
   "id": "e35f3fcc",
   "metadata": {},
   "source": [
    "In order to get to know how many mechanics there are in the entire DataFrame, without an appropriate tool, we can already guess that we would have to go through the entire string each time, save each word or combination of words used, and check the next one to see if it's a new one or if it's already in the list... isn't there a tool to exactly do this ?\n",
    "\n",
    "➡️ There is one 😉, and it's called **Vectorizing** ! (*see module 5.11. Natural Language Processing*)\n",
    "\n",
    "We can effectively consider each row of mechanics and domains as a **bag of word** that we have to count, using *CountVectorizer()*. We just have to specify that each word is between commas thanks to the *token_pattern* argument (in order to just count the words or combination of words between commas, and not count *each* word inbetween the words, like 'as', 'and', etc.)."
   ]
  },
  {
   "cell_type": "code",
   "execution_count": null,
   "id": "5a427d69",
   "metadata": {},
   "outputs": [],
   "source": [
    "# token_pattern founds :\n",
    "# token_pattern = r\"\\w+\\s*-*\\w*\\s*-*\\w*\\s*-*\\w*\\s*-*\\w*\\b\"\n",
    "# token_pattern = \\w+(\\s*-*\\w*){0,3}\\b # not working\n",
    "\n",
    "# I came across this token that also works:\n",
    "# token_pattern = r\"([a-zA-Z0-9&/]+(?:[-'][a-zA-Z0-9&/]+)*(?: [a-zA-Z0-9&/]+(?:[-'][a-zA-Z0-9&/]+)*)*)\"\n",
    "\n",
    "token_pattern = r\"([^,]+)\"\n",
    "\n",
    "# applying CountVectorizer with refined token_pattern\n",
    "mechanics_count_vectorizer = CountVectorizer(token_pattern = token_pattern)\n",
    "domains_count_vectorizer = CountVectorizer(token_pattern = token_pattern)\n",
    "\n",
    "# vectorizing the columns 'mechanics_columns' and 'domains_columns'\n",
    "mechanics_columns = mechanics_count_vectorizer.fit_transform(df['mechanics'])\n",
    "domains_columns = domains_count_vectorizer.fit_transform(df['domains'])\n",
    "\n",
    "# transformation of vectorized columns into dataframes\n",
    "vectorized_mechanics = pd.DataFrame(mechanics_columns.toarray(),\n",
    "                                    columns = mechanics_count_vectorizer.get_feature_names_out()\n",
    "                                    )\n",
    "print(vectorized_mechanics.columns)\n",
    "\n",
    "vectorized_domains = pd.DataFrame(domains_columns.toarray(),\n",
    "                                    columns = domains_count_vectorizer.get_feature_names_out()\n",
    "                                    )\n",
    "print(vectorized_domains.columns)"
   ]
  },
  {
   "cell_type": "markdown",
   "id": "0c223f05",
   "metadata": {},
   "source": [
    "❓ Can we now concatenate the DataFrame with our new vectorized mechanics and domains ? \n",
    "\n",
    "‼️ **But before that** you might have noticed that the indexes of DataFrame goes to 20342, but has 20320 items.\n",
    "And that when you call for df.mechanics, it specifies that there are 20320 rows. \n",
    "But the final index row is *20319*, whereas the one from df is *20342*. \n",
    "Therefore, we have a mismatch of indexes. That will lead to some NA if we don't take care of this, because the concatenation (as the merge) will be done on the indexes !\n",
    "That's why we're using the *.reset_index(drop=True)* method on our DataFrame : to reset the index and forces the match between both DataFrames.\n",
    "\n",
    "➡️ After that, we can effectively concatenate the DataFrame with our new vectorized mechanics and domains, and drop the mechanics and domains columns !\n"
   ]
  },
  {
   "cell_type": "code",
   "execution_count": null,
   "id": "a0fd75d7",
   "metadata": {},
   "outputs": [],
   "source": [
    "## test = pd.merge([df, vectorized_mechanics], axis = 1, join = 'inner', ignore_index=False)\n",
    "df = df.copy().reset_index(drop=True)\n",
    "df = pd.concat([df, vectorized_mechanics, vectorized_domains], axis = 1)\n",
    "## test = test.merge(vectorized_mechanics, how='left', left_index=True, right_index = True)\n",
    "# print(test)\n",
    "df.drop(['mechanics', 'domains'], axis = 1, inplace = True)\n",
    "df.head(5)"
   ]
  },
  {
   "cell_type": "code",
   "execution_count": null,
   "id": "751d28a6",
   "metadata": {},
   "outputs": [],
   "source": [
    "df.tail(5)"
   ]
  },
  {
   "cell_type": "code",
   "execution_count": null,
   "id": "28d0cd35",
   "metadata": {},
   "outputs": [],
   "source": [
    "df"
   ]
  },
  {
   "cell_type": "code",
   "execution_count": null,
   "id": "1037505c",
   "metadata": {},
   "outputs": [],
   "source": [
    "df['year_published'].value_counts()"
   ]
  },
  {
   "cell_type": "code",
   "execution_count": null,
   "id": "1891f690",
   "metadata": {},
   "outputs": [],
   "source": [
    "df['year_published'].unique()"
   ]
  },
  {
   "cell_type": "code",
   "execution_count": null,
   "id": "5ce2c92b",
   "metadata": {},
   "outputs": [],
   "source": [
    "#df['mechanics'].str.split(',') #.isin([' Action Retrieval']).sum()\n",
    "#df['mechanics'].str.split(',',expand=True) #.isin([' Action Retrieval']).sum()"
   ]
  },
  {
   "cell_type": "markdown",
   "id": "845e7243",
   "metadata": {},
   "source": [
    "Ideas to visualize (this [data-to-viz website](https://www.data-to-viz.com/) will help :D !) :\n",
    "- Repartition of mechanics (using treemaps ?)\n",
    "- A graph with bayes average as y, bgg rank as x, and i don't know how yet but a visual representation of the mechanics or domains on this graph"
   ]
  },
  {
   "cell_type": "code",
   "execution_count": null,
   "id": "f6fd38fb",
   "metadata": {},
   "outputs": [],
   "source": [
    "df[vectorized_mechanics.columns].sum().sort_values(ascending = False)"
   ]
  },
  {
   "cell_type": "code",
   "execution_count": null,
   "id": "f7980aff",
   "metadata": {},
   "outputs": [],
   "source": [
    "print(df.columns)"
   ]
  },
  {
   "cell_type": "markdown",
   "id": "3a31b745-c77f-4f8a-a936-e333733006ea",
   "metadata": {},
   "source": [
    "#### 🛍️ Transform 'year_published' column to game_age to indicate the age of each game based on the year it was published"
   ]
  },
  {
   "cell_type": "code",
   "execution_count": null,
   "id": "cdacf5ff-2e95-4630-85ec-8eb2ff40cad2",
   "metadata": {},
   "outputs": [],
   "source": [
    "df['year_published'].dtype"
   ]
  },
  {
   "cell_type": "code",
   "execution_count": null,
   "id": "5d7fe93e-5052-456c-99a4-8bd1f06a21df",
   "metadata": {},
   "outputs": [],
   "source": [
    "df['year_published'].nunique()"
   ]
  },
  {
   "cell_type": "code",
   "execution_count": null,
   "id": "9e35f15c-b10d-4fd3-9c92-e5cf764ec00a",
   "metadata": {},
   "outputs": [],
   "source": [
    "# Count rows where year_published = 0\n",
    "count_year_published_zero = len(df[df['year_published'] == 0])\n",
    "print(f\"Rows where year_published == 0: {count_year_published_zero}\")\n",
    "\n",
    "# Count and print rows where year_published < 0\n",
    "count_year_published_negative = len(df[df['year_published'] < 0])\n",
    "print(f\"Rows where year_published < 0: {count_year_published_negative}\")\n",
    "print(df[df['year_published'] < 0][['name', 'year_published']])"
   ]
  },
  {
   "cell_type": "code",
   "execution_count": null,
   "id": "c6ba2d75",
   "metadata": {},
   "outputs": [],
   "source": [
    "# Creating new column game_age to indicate the age of each game based on the year it was published\n",
    "\n",
    "# Define the current year\n",
    "current_year = 2025\n",
    "\n",
    "# Create a new column 'game_age' and drop old column 'year_published'\n",
    "df['game_age'] = current_year - df['year_published']\n",
    "\n",
    "df.drop(['year_published'], axis = 1, inplace = True)"
   ]
  },
  {
   "cell_type": "code",
   "execution_count": null,
   "id": "6959bacf",
   "metadata": {},
   "outputs": [],
   "source": [
    "# BONUS: Assess memory usage and compress data by \"downcasting\" dtypes to the smallest possible values\n",
    "df.dtypes"
   ]
  },
  {
   "cell_type": "code",
   "execution_count": null,
   "id": "6de712fa",
   "metadata": {},
   "outputs": [],
   "source": [
    "df.memory_usage()"
   ]
  },
  {
   "cell_type": "code",
   "execution_count": null,
   "id": "6ef01316",
   "metadata": {},
   "outputs": [],
   "source": [
    "def compress(df, **kwargs):\n",
    "    \"\"\"\n",
    "    Reduces size of dataframe by downcasting numerical columns\n",
    "    \"\"\"\n",
    "    input_size = df.memory_usage(index=True).sum()/ 1024\n",
    "    print(\"old dataframe size: \", round(input_size,2), 'kB')\n",
    "\n",
    "    in_size = df.memory_usage(index=True).sum()\n",
    "    for type in [\"float\", \"integer\"]:\n",
    "        l_cols = list(df.select_dtypes(include=type))\n",
    "        for col in l_cols:\n",
    "            df[col] = pd.to_numeric(df[col], downcast=type)\n",
    "    out_size = df.memory_usage(index=True).sum()\n",
    "    ratio = (1 - round(out_size / in_size, 2)) * 100\n",
    "\n",
    "    print(\"optimized size by {} %\".format(round(ratio,2)))\n",
    "    print(\"new dataframe size: \", round(out_size / 1024,2), \" kB\")\n",
    "\n",
    "    return df\n",
    "\n",
    "compress(df)\n",
    "df.memory_usage()"
   ]
  },
  {
   "cell_type": "markdown",
   "id": "05ab8d17-ee77-46c5-a5e2-2e32c2f18473",
   "metadata": {},
   "source": [
    "# BASELINE MODEL\n",
    "---"
   ]
  },
  {
   "cell_type": "code",
   "execution_count": null,
   "id": "e6a4fbe8-4732-4974-a0ce-ddba41f84e05",
   "metadata": {},
   "outputs": [],
   "source": [
    "df_clean = df.copy()"
   ]
  },
  {
   "cell_type": "code",
   "execution_count": null,
   "id": "99d86367-77ef-4b84-bfd5-0d4d99626d51",
   "metadata": {},
   "outputs": [],
   "source": [
    "# we have numerous categorical values to encode: 19,974 for name, 7,379 for mechanics, and 40 for domains. To maintain a simple basic model, I removed the name column\n",
    "df_clean.drop(columns=['name'], inplace=True)\n",
    "df_clean.columns"
   ]
  },
  {
   "cell_type": "markdown",
   "id": "7827397f",
   "metadata": {},
   "source": [
    "The function below enable us to check for duplicates in the DataFrame columns (**[source](https://stackoverflow.com/questions/75394033/pipeline-columntransformer-valueerror-selected-columns-are-not-unique-in-dat)**). If there are, you might encounter mistakes on the cross_validation."
   ]
  },
  {
   "cell_type": "code",
   "execution_count": null,
   "id": "0623d7c4",
   "metadata": {},
   "outputs": [],
   "source": [
    "def list_duplicates(seq):\n",
    "  \"\"\"A stack overflow solution to look for a duplicate in a string list\"\"\"\n",
    "  seen = set()\n",
    "  seen_add = seen.add\n",
    "  # adds all elements it doesn't know yet to seen and all other to seen_twice\n",
    "  seen_twice = set( x for x in seq if x in seen or seen_add(x) )\n",
    "  # turn the set into a list (as requested)\n",
    "  return list( seen_twice )\n",
    "\n",
    "list_duplicates(df_clean.columns)"
   ]
  },
  {
   "cell_type": "code",
   "execution_count": null,
   "id": "db47d237",
   "metadata": {},
   "outputs": [],
   "source": [
    "# I think it's almost the same as above, but here is a way to check if there are any duplicate columns (columns with the same name)\n",
    "\n",
    "duplicated_columns = df_clean.columns[df_clean.columns.duplicated()].tolist()\n",
    "\n",
    "if duplicated_columns:\n",
    "    print(f\"Duplicated columns: {duplicated_columns}\")\n",
    "else:\n",
    "    print(\"There are no duplicate columns.\")"
   ]
  },
  {
   "cell_type": "code",
   "execution_count": null,
   "id": "4e544eb6-25d1-4bdf-9689-76c793eca37e",
   "metadata": {},
   "outputs": [],
   "source": [
    "# Split data into features (X) and target (y)\n",
    "# We want to predict Average Ratings\n",
    "X = df_clean.drop('rating_average', axis=1)\n",
    "y = df_clean['rating_average']"
   ]
  },
  {
   "cell_type": "code",
   "execution_count": null,
   "id": "37274dbf-f054-4dfa-9ec6-930b7db80e9e",
   "metadata": {},
   "outputs": [],
   "source": [
    "# Split into training and testing sets\n",
    "X_train, X_test, y_train, y_test = train_test_split(X, y, test_size=0.2, random_state=42)"
   ]
  },
  {
   "cell_type": "code",
   "execution_count": null,
   "id": "f96a752b-f061-4594-b584-c1c7ad61d9e8",
   "metadata": {},
   "outputs": [],
   "source": [
    "X_train.shape, X_test.shape, y_train.shape, y_test.shape"
   ]
  },
  {
   "cell_type": "markdown",
   "id": "c9a607f3-eea2-4399-b7bb-7016202b6bd0",
   "metadata": {},
   "source": [
    "#### categorical features"
   ]
  },
  {
   "cell_type": "code",
   "execution_count": null,
   "id": "30f4daff-0ae7-42b0-9471-600843431a41",
   "metadata": {},
   "outputs": [],
   "source": [
    "df_clean.select_dtypes(include=[\"object\"]).nunique().sort_values(ascending=False)"
   ]
  },
  {
   "cell_type": "code",
   "execution_count": null,
   "id": "7111469b-fc81-4905-a2cc-8753a02adc76",
   "metadata": {},
   "outputs": [],
   "source": [
    "categorical_features_unique = df_clean.select_dtypes(include=[\"object\"]).nunique()\n",
    "categorical_features_unique.sum()"
   ]
  },
  {
   "cell_type": "code",
   "execution_count": null,
   "id": "c13f83f1-c29c-4919-b78a-2da27705bf01",
   "metadata": {},
   "outputs": [],
   "source": [
    "preproc_categorical_baseline = make_pipeline(\n",
    "    SimpleImputer(strategy=\"most_frequent\"),\n",
    "    OneHotEncoder(handle_unknown=\"ignore\", drop=\"if_binary\", sparse_output=False)\n",
    ")\n",
    "\n",
    "preproc_categorical_baseline"
   ]
  },
  {
   "cell_type": "markdown",
   "id": "fa142515-fe90-4f46-a6c6-b55518040a81",
   "metadata": {},
   "source": [
    "#### numerical features"
   ]
  },
  {
   "cell_type": "code",
   "execution_count": null,
   "id": "615fb394-7567-4825-b416-cc343baa9ca8",
   "metadata": {},
   "outputs": [],
   "source": [
    "preproc_numerical_baseline = make_pipeline(\n",
    "    SimpleImputer(),\n",
    "    MinMaxScaler()\n",
    ")\n",
    "\n",
    "preproc_numerical_baseline"
   ]
  },
  {
   "cell_type": "code",
   "execution_count": null,
   "id": "4444d501-d195-4cda-82d2-6bd2eb85907e",
   "metadata": {},
   "outputs": [],
   "source": [
    "preproc_baseline = ColumnTransformer([\n",
    "    (\"num_transform\", preproc_numerical_baseline, make_column_selector(dtype_include=np.number)),\n",
    "    (\"cat_transform\", preproc_categorical_baseline, make_column_selector(dtype_exclude=np.number))\n",
    "]).set_output(transform=\"pandas\")"
   ]
  },
  {
   "cell_type": "code",
   "execution_count": null,
   "id": "d4effa53-12cc-4955-abe2-726fbe8e20ad",
   "metadata": {},
   "outputs": [],
   "source": [
    "pipeline_baseline = make_pipeline(preproc_baseline, DecisionTreeRegressor(max_depth=5))\n",
    "pipeline_baseline"
   ]
  },
  {
   "cell_type": "code",
   "execution_count": null,
   "id": "318f4a4d-1810-45ee-a5f3-f38e9026f24d",
   "metadata": {},
   "outputs": [],
   "source": [
    "cv_score = cross_val_score(pipeline_baseline, X_train, y_train, cv=5).mean()\n",
    "print(f\"Cross-validation score: {cv_score}\")"
   ]
  },
  {
   "cell_type": "code",
   "execution_count": null,
   "id": "bf68a419-c257-42c9-ab13-d845eb879556",
   "metadata": {},
   "outputs": [],
   "source": [
    "#pipeline_baseline.get_params()"
   ]
  },
  {
   "cell_type": "code",
   "execution_count": null,
   "id": "49d6b357-5adf-4988-8656-91d4ef4d2f33",
   "metadata": {},
   "outputs": [],
   "source": [
    "pipeline_baseline.fit(X_train, y_train)"
   ]
  },
  {
   "cell_type": "code",
   "execution_count": null,
   "id": "8d95a5be-3c10-466e-adf1-374047ce6c97",
   "metadata": {},
   "outputs": [],
   "source": [
    "# Make predictions\n",
    "y_pred = pipeline_baseline.predict(X_test)\n",
    "\n",
    "y_pred"
   ]
  },
  {
   "cell_type": "markdown",
   "id": "feaba24a",
   "metadata": {},
   "source": [
    "Evaluate the model on the test set"
   ]
  },
  {
   "cell_type": "code",
   "execution_count": null,
   "id": "c83f3c9f-bbc7-4d8e-9538-1e9025de2d00",
   "metadata": {},
   "outputs": [],
   "source": [
    "from sklearn.metrics import r2_score\n",
    "\n",
    "mae = metrics.mean_absolute_error(y_test, y_pred)\n",
    "mse = metrics.mean_squared_error(y_test, y_pred)\n",
    "rmse = mse ** 0.5\n",
    "r2 = r2_score(y_test, y_pred)\n",
    "r2 = pipeline_baseline.score(X_test, y_test)\n",
    "\n",
    "print(f\"MAE: {mae}, MSE: {mse}, RMSE: {rmse}, R²: {r2}\")"
   ]
  },
  {
   "cell_type": "code",
   "execution_count": null,
   "id": "aece02b4",
   "metadata": {},
   "outputs": [],
   "source": [
    "# Real values VS Predicted values\n",
    "\n",
    "comparison_df = pd.DataFrame({\n",
    "    \"Game Name\": df.loc[y_test.index, 'name'],\n",
    "    \"Real Values\": y_test,\n",
    "    \"Predictions\": y_pred\n",
    "})\n",
    "\n",
    "# Round predictions to 1 decimal place\n",
    "comparison_df['Predictions'] = comparison_df['Predictions'].round(1)\n",
    "\n",
    "# Sort by actual real value\n",
    "comparison_df = comparison_df.sort_values(by=\"Real Values\", ascending=False)\n",
    "\n",
    "print(comparison_df.head(5))"
   ]
  },
  {
   "cell_type": "code",
   "execution_count": null,
   "id": "b28d4314-0449-46d7-b817-226d77772149",
   "metadata": {},
   "outputs": [],
   "source": [
    "import pickle\n",
    "models_path = os.path.expanduser(\"~/code/maxencedauphin/bgg-project/models\")\n",
    "pickle_file_path = os.path.join(models_path, \"pipeline_baseline.pkl\")\n",
    "\n",
    "if not os.path.exists(models_path):\n",
    "        os.makedirs(models_path)\n",
    "# Export Pipeline as pickle file\n",
    "with open(pickle_file_path, \"wb\") as file:\n",
    "    pickle.dump(pipeline_baseline, file)\n",
    "\n",
    "print(f\"Model saved to: {pickle_file_path}\")"
   ]
  }
 ],
 "metadata": {
  "kernelspec": {
   "display_name": "bgg",
   "language": "python",
   "name": "python3"
  },
  "language_info": {
   "codemirror_mode": {
    "name": "ipython",
    "version": 3
   },
   "file_extension": ".py",
   "mimetype": "text/x-python",
   "name": "python",
   "nbconvert_exporter": "python",
   "pygments_lexer": "ipython3",
   "version": "3.10.6"
  }
 },
 "nbformat": 4,
 "nbformat_minor": 5
}
