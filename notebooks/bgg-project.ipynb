{
 "cells": [
  {
   "attachments": {
    "fe6f198c-47f8-4c54-a4dd-c08a5388b0c1.png": {
     "image/png": "[encoded data removed]"
    }
   },
   "cell_type": "markdown",
   "id": "0",
   "metadata": {},
   "source": [
    "# 🎲 Board Games Analysis Project 🎲\n",
    "----\n",
    "\n",
    "![image.png](attachment:fe6f198c-47f8-4c54-a4dd-c08a5388b0c1.png)\n",
    "\n",
    "The **Board Game Analysis** project aims to explore and analyze data from **[BoardGameGeek](https://boardgamegeek.com/)** (also known as **BGG**), one of the largest online communities for board game enthusiasts. \n",
    "\n",
    "This project will delve into the characteristics of board games and their relationships with user ratings, providing insights into what makes a game highly rated and popular.\n",
    "\n",
    "#### 🚀 Authors : Maxence Dauphin, Bernhard Riemer, Mónica Costa, Tahar Guenfoud, Konstantin Shapovalov\n",
    "#### 🎯 Batch #1835 Data Science Flex\n",
    "\n"
   ]
  },
  {
   "cell_type": "markdown",
   "id": "1",
   "metadata": {},
   "source": [
    "# Importing Libraries\n",
    "------"
   ]
  },
  {
   "cell_type": "code",
   "execution_count": null,
   "id": "2",
   "metadata": {},
   "outputs": [],
   "source": [
    "import os\n",
    "import subprocess\n",
    "import re\n",
    "\n",
    "import numpy as np\n",
    "import pandas as pd\n",
    "pd.options.display.max_columns = None\n",
    "\n",
    "import warnings\n",
    "warnings.filterwarnings(\"ignore\")\n",
    "\n",
    "import matplotlib.pyplot as plt\n",
    "from matplotlib import colors\n",
    "import seaborn as sns\n",
    "\n",
    "from sklearn import metrics\n",
    "from sklearn.model_selection import train_test_split, cross_validate, cross_val_score\n",
    "from sklearn.impute import SimpleImputer, KNNImputer\n",
    "from sklearn.preprocessing import MinMaxScaler, StandardScaler, RobustScaler\n",
    "from sklearn.preprocessing import OrdinalEncoder, OneHotEncoder\n",
    "from sklearn.pipeline import Pipeline, make_pipeline\n",
    "from sklearn.compose import ColumnTransformer, make_column_transformer, make_column_selector\n",
    "from sklearn import set_config; set_config(display=\"diagram\")\n",
    "from sklearn.base import TransformerMixin, BaseEstimator\n",
    "\n",
    "from sklearn.metrics import make_scorer\n",
    "from sklearn.metrics import mean_squared_error, mean_squared_log_error\n",
    "from sklearn.model_selection import GridSearchCV, RandomizedSearchCV\n",
    "from sklearn.linear_model import Ridge, Lasso, LinearRegression, ElasticNet\n",
    "from sklearn.linear_model import SGDRegressor\n",
    "from sklearn.neighbors import KNeighborsRegressor\n",
    "from sklearn.tree import DecisionTreeRegressor\n",
    "from sklearn.svm import SVR\n",
    "from sklearn.ensemble import RandomForestRegressor, AdaBoostRegressor, GradientBoostingRegressor\n",
    "from sklearn.ensemble import VotingRegressor, StackingRegressor\n",
    "from xgboost import XGBRegressor\n",
    "from sklearn.feature_extraction.text import CountVectorizer\n",
    "from pathlib import Path"
   ]
  },
  {
   "cell_type": "markdown",
   "id": "3",
   "metadata": {},
   "source": [
    "# Load data from Kaggle\n",
    "---"
   ]
  },
  {
   "cell_type": "markdown",
   "id": "4",
   "metadata": {},
   "source": [
    "⬇️ **Getting the data**\n",
    "\n",
    "The project is based on a **BoardGameGeek** dataset coming from [Kaggle](https://www.kaggle.com/api/v1/datasets/download/melissamonfared/board-games). \n",
    "\n",
    "Once downloaded, the *archive.zip* obtained is stored inside the **raw_data** folder. Then, the archive is unzipped in order to extract the dataset as a *.csv file*. If the archive path already exists, we can ignore the download and re-use our previous data."
   ]
  },
  {
   "cell_type": "code",
   "execution_count": null,
   "id": "5",
   "metadata": {},
   "outputs": [],
   "source": [
    "# Define paths \n",
    "current_file_path = Path().absolute()  \n",
    "raw_data_path = current_file_path / \"raw_data\"  \n",
    "raw_data_path.mkdir(exist_ok=True)  # Create directory if it doesn't exist\n",
    "\n",
    "# Download and extract data\n",
    "kaggle_data_path = \"https://www.kaggle.com/api/v1/datasets/download/melissamonfared/board-games\"\n",
    "archive_path = raw_data_path / \"archive.zip\"  # Path to zip file\n",
    "subprocess.run(f\"curl -L -o {archive_path} {kaggle_data_path}\", shell=True) \n",
    "subprocess.run(f\"unzip -o {archive_path} -d {raw_data_path}\", shell=True)\n"
   ]
  },
  {
   "cell_type": "markdown",
   "id": "6",
   "metadata": {},
   "source": [
    "The dataset (named df) can be open through the *read_csv* method of **pandas** :"
   ]
  },
  {
   "cell_type": "code",
   "execution_count": null,
   "id": "7",
   "metadata": {},
   "outputs": [],
   "source": [
    "# Load the data\n",
    "df_orig = pd.read_csv(raw_data_path / \"BGG_Data_Set.csv\", encoding='ISO-8859-1')\n",
    "df = df_orig.copy()\n",
    "df.shape\n",
    "\n",
    "\n"
   ]
  },
  {
   "cell_type": "markdown",
   "id": "8",
   "metadata": {},
   "source": [
    "Once the dataset loaded, we can start exploring the data we have ! 🔎"
   ]
  },
  {
   "cell_type": "markdown",
   "id": "9",
   "metadata": {},
   "source": [
    "# Exploratory Data Analysis (EDA)\n",
    "---"
   ]
  },
  {
   "cell_type": "markdown",
   "id": "10",
   "metadata": {},
   "source": [
    "⬇️ **Exploratory Data analysis** \n",
    "\n",
    "Let's get familiar with the dataset first :\n",
    "- How does it look like ?\n",
    "- What are the rows ? \n",
    "- What are the columns ?\n",
    "- What is the shape of the dataset ?\n"
   ]
  },
  {
   "cell_type": "code",
   "execution_count": null,
   "id": "11",
   "metadata": {},
   "outputs": [],
   "source": [
    "df.head(2)"
   ]
  },
  {
   "cell_type": "code",
   "execution_count": null,
   "id": "12",
   "metadata": {},
   "outputs": [],
   "source": [
    "rows, col = df.shape\n",
    "print(f\"Total rows : {rows}, Total columns : {col}\")"
   ]
  },
  {
   "cell_type": "markdown",
   "id": "13",
   "metadata": {},
   "source": [
    "Is there any duplicates inside the dataset ?"
   ]
  },
  {
   "cell_type": "code",
   "execution_count": null,
   "id": "14",
   "metadata": {},
   "outputs": [],
   "source": [
    "# DUPLICATES\n",
    "df.duplicated().sum()"
   ]
  },
  {
   "cell_type": "code",
   "execution_count": null,
   "id": "15",
   "metadata": {},
   "outputs": [],
   "source": [
    "df.info()"
   ]
  },
  {
   "cell_type": "code",
   "execution_count": null,
   "id": "16",
   "metadata": {},
   "outputs": [],
   "source": [
    "df.dtypes.value_counts()"
   ]
  },
  {
   "cell_type": "code",
   "execution_count": null,
   "id": "17",
   "metadata": {},
   "outputs": [],
   "source": [
    "df.select_dtypes(include=[\"object\"]).nunique().sort_values(ascending=False)"
   ]
  },
  {
   "cell_type": "code",
   "execution_count": null,
   "id": "18",
   "metadata": {},
   "outputs": [],
   "source": [
    "df.select_dtypes(include=[\"float64\"]).nunique().sort_values(ascending=False)"
   ]
  },
  {
   "cell_type": "code",
   "execution_count": null,
   "id": "19",
   "metadata": {},
   "outputs": [],
   "source": [
    "df.select_dtypes(include=[\"int64\"]).nunique().sort_values(ascending=False)"
   ]
  },
  {
   "cell_type": "code",
   "execution_count": null,
   "id": "20",
   "metadata": {},
   "outputs": [],
   "source": [
    "df.describe()"
   ]
  },
  {
   "cell_type": "markdown",
   "id": "21",
   "metadata": {},
   "source": [
    "#### 🤔 My reflections:\n",
    "\n",
    "- convert column names to lowercase and replace spaces with underscores to facilitate using pandas df.name syntax\n",
    "- remove the game ID column as it does not provide inherent information about the game's quality or rating\n",
    "- remove rows where the value for owned_users is NaN\n",
    "- replace missing values in the mechanics and domains columns with \"unspecified\"\n",
    "- rework mechanics and domains columns which contains a list of strings\n",
    "- we have numerous categorical values to encode: 19,974 for name, 7,379 for mechanics, and 40 for domains. To maintain a simple basic model, I removed the name column\n",
    "\n",
    "TODO\n",
    "- we need to rework the year_published column to handle NaN, 0, and negative values, which represent very old games dated \"BC\"\n",
    "- we need to transform the list values in mechanics and domains into something more meaningful\n",
    "- ...\n"
   ]
  },
  {
   "cell_type": "markdown",
   "id": "22",
   "metadata": {},
   "source": [
    "#### 🛍️ Convert column names to lowercase and replace spaces with underscores to facilitate using pandas df.name syntax"
   ]
  },
  {
   "cell_type": "code",
   "execution_count": null,
   "id": "23",
   "metadata": {},
   "outputs": [],
   "source": [
    "df.columns = [col.lower().replace(' ', '_') for col in df.columns]\n",
    "\n",
    "# Output the transformed column names\n",
    "print(df.columns)"
   ]
  },
  {
   "cell_type": "markdown",
   "id": "24",
   "metadata": {},
   "source": [
    "#### 🛍️ Remove the game ID column as it does not provide inherent information about the game's quality or rating"
   ]
  },
  {
   "cell_type": "code",
   "execution_count": null,
   "id": "25",
   "metadata": {},
   "outputs": [],
   "source": [
    "rows, col = df.shape\n",
    "print(f\"Total rows : {rows}, Total columns : {col}\")"
   ]
  },
  {
   "cell_type": "code",
   "execution_count": null,
   "id": "26",
   "metadata": {},
   "outputs": [],
   "source": [
    "df.drop(columns=['id'], inplace=True)"
   ]
  },
  {
   "cell_type": "code",
   "execution_count": null,
   "id": "27",
   "metadata": {},
   "outputs": [],
   "source": [
    "rows, col = df.shape\n",
    "print(f\"Total rows : {rows}, Total columns : {col}\")"
   ]
  },
  {
   "cell_type": "markdown",
   "id": "28",
   "metadata": {},
   "source": [
    "#### 🛍️ Remove rows where the value for owned_users is NaN"
   ]
  },
  {
   "cell_type": "code",
   "execution_count": null,
   "id": "29",
   "metadata": {},
   "outputs": [],
   "source": [
    "df = df[df['owned_users'].notna()]"
   ]
  },
  {
   "cell_type": "code",
   "execution_count": null,
   "id": "30",
   "metadata": {},
   "outputs": [],
   "source": [
    "rows, col = df.shape\n",
    "print(f\"Total rows : {rows}, Total columns : {col}\")"
   ]
  },
  {
   "cell_type": "markdown",
   "id": "31",
   "metadata": {},
   "source": [
    "#### 🛍️ Replace missing values in the mechanics and domains columns with \"unspecified\""
   ]
  },
  {
   "cell_type": "code",
   "execution_count": null,
   "id": "32",
   "metadata": {},
   "outputs": [],
   "source": [
    "print(\"Columns with missing values:\", df.columns[df.isnull().any()])"
   ]
  },
  {
   "cell_type": "markdown",
   "id": "33",
   "metadata": {},
   "source": [
    "Changing any NA value inside the mechanics / domains column into an \"unspecified\" mechanic / domain value. This ensure to not deal with NA values."
   ]
  },
  {
   "cell_type": "code",
   "execution_count": null,
   "id": "34",
   "metadata": {},
   "outputs": [],
   "source": [
    "df[\"mechanics\"] = df[\"mechanics\"].fillna(\"unspecified mechanic\")\n",
    "df[\"domains\"] = df[\"domains\"].fillna(\"unspecified domain\")"
   ]
  },
  {
   "cell_type": "markdown",
   "id": "35",
   "metadata": {},
   "source": [
    "\n",
    "**Note :** Since these columns values will be used as columns later, we should not use the same word to design an undertermined value. Thus, we specify either mechanic or domain behind \"unspecified\"."
   ]
  },
  {
   "cell_type": "code",
   "execution_count": null,
   "id": "36",
   "metadata": {},
   "outputs": [],
   "source": [
    "print(\"Columns with missing values:\", df.columns[df.isnull().any()])"
   ]
  },
  {
   "cell_type": "markdown",
   "id": "37",
   "metadata": {},
   "source": [
    "#### 🛍️ Rework mechanics and domains columns which contains a list of strings"
   ]
  },
  {
   "cell_type": "code",
   "execution_count": null,
   "id": "38",
   "metadata": {},
   "outputs": [],
   "source": [
    "df.mechanics"
   ]
  },
  {
   "cell_type": "code",
   "execution_count": null,
   "id": "39",
   "metadata": {},
   "outputs": [],
   "source": [
    "def clean(text):\n",
    "    \"\"\"\n",
    "    This function aims to clean a list of words. \"\n",
    "    It takes a string of words separated by a comma as an input,\n",
    "    and returns the same string, but without space or slashes inbetween words.\n",
    "    Ex :\n",
    "    - Before a clean function: Action Drafting, Area Majority / Influence, ...\n",
    "    - After a clean function: Action Drafting,Area Majority,Influence,...\n",
    "    \"\"\"\n",
    "    # This part replace empty words between commas, and separate slashed words by a comma\n",
    "    cln = re.sub(', ,', ' ', str(text))\n",
    "    cln = cln.replace(\" /\",\",\")\n",
    "    cln = cln.replace(\"/\",\",\")\n",
    "    #cln = cln.lower() # if it is case sensitive, might be good to lowercase.\n",
    "\n",
    "    # This part enable to separate and join again the slashed words, and to get rid of spaces after the comma\n",
    "    \"\"\"\n",
    "    Ex : 'Action', 'Drafting,...', -> 'Action Drafting,...'\n",
    "    \"\"\"\n",
    "    cln = cln.split()\n",
    "    cln = ' '.join(cln)\n",
    "    cln = cln.split(', ')\n",
    "    cln = ','.join(cln)\n",
    "    return cln\n"
   ]
  },
  {
   "cell_type": "markdown",
   "id": "40",
   "metadata": {},
   "source": [
    "Below an example of the clean function doing : "
   ]
  },
  {
   "cell_type": "code",
   "execution_count": null,
   "id": "41",
   "metadata": {},
   "outputs": [],
   "source": [
    "print(\"Before a clean function:\\n\", df_orig.Mechanics.iloc[4])\n",
    "print(\"After a clean function:\\n\", clean(df_orig.Mechanics.iloc[4]))"
   ]
  },
  {
   "cell_type": "markdown",
   "id": "42",
   "metadata": {},
   "source": [
    "We can apply the clean functions to both **mechanics** and **domains** columns : "
   ]
  },
  {
   "cell_type": "code",
   "execution_count": null,
   "id": "43",
   "metadata": {},
   "outputs": [],
   "source": [
    "df[\"mechanics\"] = df[\"mechanics\"].apply(clean)\n",
    "df[\"domains\"] = df[\"domains\"].apply(clean)"
   ]
  },
  {
   "cell_type": "markdown",
   "id": "44",
   "metadata": {},
   "source": [
    "Finally, we have a clean string of words separated by just a comma in each row :"
   ]
  },
  {
   "cell_type": "code",
   "execution_count": null,
   "id": "45",
   "metadata": {},
   "outputs": [],
   "source": [
    "print(\"Mechanics column :\\n\", df.mechanics.head(5))\n",
    "print(\"\\nDomains column :\\n\",df.domains.head(5))"
   ]
  },
  {
   "cell_type": "markdown",
   "id": "46",
   "metadata": {},
   "source": [
    "In order to get to know how many mechanics there are in the entire DataFrame, without an appropriate tool, we can already guess that we would have to go through the entire string each time, save each word or combination of words used, and check the next one to see if it's a new one or if it's already in the list... isn't there a tool to exactly do this ?\n",
    "\n",
    "➡️ There is one 😉, and it's called **Vectorizing** ! (*see module 5.11. Natural Language Processing*)\n",
    "\n",
    "We can effectively consider each row of mechanics and domains as a **bag of word** that we have to count, using *CountVectorizer()*. We just have to specify that each word is between commas thanks to the *token_pattern* argument (in order to just count the words or combination of words between commas, and not count *each* word inbetween the words, like 'as', 'and', etc.)."
   ]
  },
  {
   "cell_type": "code",
   "execution_count": null,
   "id": "47",
   "metadata": {},
   "outputs": [],
   "source": [
    "# token_pattern founds :\n",
    "# token_pattern = r\"\\w+\\s*-*\\w*\\s*-*\\w*\\s*-*\\w*\\s*-*\\w*\\b\"\n",
    "# token_pattern = \\w+(\\s*-*\\w*){0,3}\\b # not working\n",
    "token_pattern = r\"([^,]+)\"\n",
    "mechanics_count_vectorizer = CountVectorizer(token_pattern = token_pattern)\n",
    "domains_count_vectorizer = CountVectorizer(token_pattern = token_pattern)\n",
    "\n",
    "mechanics_columns = mechanics_count_vectorizer.fit_transform(df['mechanics'])\n",
    "domains_columns = domains_count_vectorizer.fit_transform(df['domains'])\n",
    "\n",
    "vectorized_mechanics = pd.DataFrame(mechanics_columns.toarray(),\n",
    "                                    columns = mechanics_count_vectorizer.get_feature_names_out()\n",
    "                                    )\n",
    "print(vectorized_mechanics.columns)\n",
    "\n",
    "vectorized_domains = pd.DataFrame(domains_columns.toarray(),\n",
    "                                    columns = domains_count_vectorizer.get_feature_names_out()\n",
    "                                    )\n",
    "print(vectorized_domains.columns)"
   ]
  },
  {
   "cell_type": "markdown",
   "id": "48",
   "metadata": {},
   "source": [
    "❓ Can we now concatenate the DataFrame with our new vectorized mechanics and domains ? \n",
    "\n",
    "‼️ **But before that** you might have noticed that the indexes of DataFrame goes to 20342, but has 20320 items.\n",
    "And that when you call for df.mechanics, it specifies that there are 20320 rows. \n",
    "But the final index row is *20319*, whereas the one from df is *20342*. \n",
    "Therefore, we have a mismatch of indexes. That will lead to some NA if we don't take care of this, because the concatenation (as the merge) will be done on the indexes !\n",
    "That's why we're using the *.reset_index(drop=True)* method on our DataFrame : to reset the index and forces the match between both DataFrames.\n",
    "\n",
    "➡️ After that, we can effectively concatenate the DataFrame with our new vectorized mechanics and domains, and drop the mechanics and domains columns !\n"
   ]
  },
  {
   "cell_type": "code",
   "execution_count": null,
   "id": "49",
   "metadata": {},
   "outputs": [],
   "source": [
    "## test = pd.merge([df, vectorized_mechanics], axis = 1, join = 'inner', ignore_index=False)\n",
    "df = df.copy().reset_index(drop=True)\n",
    "df = pd.concat([df, vectorized_mechanics, vectorized_domains], axis = 1)\n",
    "## test = test.merge(vectorized_mechanics, how='left', left_index=True, right_index = True)\n",
    "# print(test)\n",
    "df.drop(['mechanics', 'domains'], axis = 1, inplace = True)\n",
    "df.head(5)"
   ]
  },
  {
   "cell_type": "code",
   "execution_count": null,
   "id": "50",
   "metadata": {},
   "outputs": [],
   "source": [
    "df"
   ]
  },
  {
   "cell_type": "code",
   "execution_count": null,
   "id": "51",
   "metadata": {},
   "outputs": [],
   "source": [
    "#df['mechanics'].str.split(',') #.isin([' Action Retrieval']).sum()\n",
    "#df['mechanics'].str.split(',',expand=True) #.isin([' Action Retrieval']).sum()"
   ]
  },
  {
   "cell_type": "markdown",
   "id": "52",
   "metadata": {},
   "source": [
    "Ideas to visualize (this [data-to-viz website](https://www.data-to-viz.com/) will help :D !) :\n",
    "- Repartition of mechanics (using treemaps ?)\n",
    "- A graph with bayes average as y, bgg rank as x, and i don't know how yet but a visual representation of the mechanics or domains on this graph"
   ]
  },
  {
   "cell_type": "code",
   "execution_count": null,
   "id": "53",
   "metadata": {},
   "outputs": [],
   "source": [
    "df[vectorized_mechanics.columns].sum().sort_values(ascending = False)"
   ]
  },
  {
   "cell_type": "markdown",
   "id": "54",
   "metadata": {},
   "source": [
    "#### 🛍️ Transform 'year_published' column to game_age to indicate the age of each game based on the year it was published"
   ]
  },
  {
   "cell_type": "code",
   "execution_count": null,
   "id": "55",
   "metadata": {},
   "outputs": [],
   "source": [
    "df['year_published'].dtype"
   ]
  },
  {
   "cell_type": "code",
   "execution_count": null,
   "id": "56",
   "metadata": {},
   "outputs": [],
   "source": [
    "df['year_published'].nunique()"
   ]
  },
  {
   "cell_type": "code",
   "execution_count": null,
   "id": "57",
   "metadata": {},
   "outputs": [],
   "source": [
    "# Count rows where year_published = 0\n",
    "count_year_published_zero = len(df[df['year_published'] == 0])\n",
    "print(f\"Rows where year_published == 0: {count_year_published_zero}\")\n",
    "\n",
    "# Count and print rows where year_published < 0\n",
    "count_year_published_negative = len(df[df['year_published'] < 0])\n",
    "print(f\"Rows where year_published < 0: {count_year_published_negative}\")\n",
    "print(df[df['year_published'] < 0][['name', 'year_published']])"
   ]
  },
  {
   "cell_type": "code",
   "execution_count": null,
   "id": "58",
   "metadata": {},
   "outputs": [],
   "source": [
    "# Creating new column game_age to indicate the age of each game based on the year it was published\n",
    "\n",
    "# Define the current year\n",
    "current_year = 2025\n",
    "\n",
    "# Create a new column 'game_age' and drop old column 'year_published'\n",
    "df['game_age'] = current_year - df['year_published']\n",
    "\n",
    "df.drop(['year_published'], axis = 1, inplace = True)"
   ]
  },
  {
   "cell_type": "code",
   "execution_count": null,
   "id": "59",
   "metadata": {},
   "outputs": [],
   "source": [
    "# BONUS: Assess memory usage and compress data by \"downcasting\" dtypes to the smallest possible values\n",
    "df.dtypes"
   ]
  },
  {
   "cell_type": "code",
   "execution_count": null,
   "id": "60",
   "metadata": {},
   "outputs": [],
   "source": [
    "df.memory_usage()"
   ]
  },
  {
   "cell_type": "code",
   "execution_count": null,
   "id": "61",
   "metadata": {},
   "outputs": [],
   "source": [
    "def compress(df, **kwargs):\n",
    "    \"\"\"\n",
    "    Reduces size of dataframe by downcasting numerical columns\n",
    "    \"\"\"\n",
    "    input_size = df.memory_usage(index=True).sum()/ 1024\n",
    "    print(\"old dataframe size: \", round(input_size,2), 'kB')\n",
    "\n",
    "    in_size = df.memory_usage(index=True).sum()\n",
    "    for type in [\"float\", \"integer\"]:\n",
    "        l_cols = list(df.select_dtypes(include=type))\n",
    "        for col in l_cols:\n",
    "            df[col] = pd.to_numeric(df[col], downcast=type)\n",
    "    out_size = df.memory_usage(index=True).sum()\n",
    "    ratio = (1 - round(out_size / in_size, 2)) * 100\n",
    "\n",
    "    print(\"optimized size by {} %\".format(round(ratio,2)))\n",
    "    print(\"new dataframe size: \", round(out_size / 1024,2), \" kB\")\n",
    "\n",
    "    return df\n",
    "\n",
    "compress(df)\n",
    "df.memory_usage()"
   ]
  },
  {
   "cell_type": "markdown",
   "id": "62",
   "metadata": {},
   "source": [
    "# BASELINE MODEL\n",
    "---"
   ]
  },
  {
   "cell_type": "code",
   "execution_count": null,
   "id": "63",
   "metadata": {},
   "outputs": [],
   "source": [
    "df_clean = df.copy()"
   ]
  },
  {
   "cell_type": "code",
   "execution_count": null,
   "id": "64",
   "metadata": {},
   "outputs": [],
   "source": []
  },
  {
   "cell_type": "markdown",
   "id": "65",
   "metadata": {},
   "source": [
    "## Data Visualization\n",
    "\n",
    "Let's create some visualizations to better understand our dataset. We'll explore:\n",
    "\n",
    "1. Distribution of average ratings\n",
    "2. Relationship between complexity and average rating\n",
    "3. Relationship between popularity (users rated) and average rating\n",
    "4. Relationship between play time and ownership\n",
    "5. Distribution of minimum recommended ages\n",
    "# \n",
    "### These visualizations will help us identify patterns and relationships in our board game data."
   ]
  },
  {
   "cell_type": "code",
   "execution_count": null,
   "id": "66",
   "metadata": {},
   "outputs": [],
   "source": [
    "\n",
    "import matplotlib.pyplot as plt\n",
    "import seaborn as sns\n",
    "\n",
    "plt.style.use('seaborn-v0_8-whitegrid')  \n",
    "sns.set_palette(\"viridis\")  # Modern color palette\n",
    "\n",
    "\n",
    "# 1. Distribution of rating_average\n",
    "plt.figure(figsize=(10, 6))\n",
    "sns.histplot(df_clean['rating_average'], kde=True, color='darkblue')\n",
    "plt.title('Distribution of Average Ratings', fontsize=14)\n",
    "plt.xlabel('Average Rating', fontsize=12)\n",
    "plt.ylabel('Number of Games', fontsize=12)\n",
    "plt.tight_layout()\n",
    "plt.show()\n",
    "\n",
    "\n",
    "# 2. Correlation between complexity_average and rating_average\n",
    "plt.figure(figsize=(10, 6))\n",
    "sns.scatterplot(x='complexity_average', y='rating_average', data=df_clean, alpha=0.7)\n",
    "# Add trend line\n",
    "sns.regplot(x='complexity_average', y='rating_average', data=df_clean, \n",
    "            scatter=False, line_kws={\"color\": \"red\"})\n",
    "plt.title('Relationship Between Complexity and Average Rating', fontsize=14)\n",
    "plt.xlabel('Average Complexity', fontsize=12)\n",
    "plt.ylabel('Average Rating', fontsize=12)\n",
    "plt.tight_layout()\n",
    "plt.show()\n",
    "\n",
    "\n",
    "# 3. Relationship between users_rated and rating_average\n",
    "plt.figure(figsize=(10, 6))\n",
    "sns.scatterplot(x='users_rated', y='rating_average', data=df_clean, alpha=0.6)\n",
    "plt.title('Relationship Between Popularity and Average Rating', fontsize=14)\n",
    "plt.xlabel('Number of Users Rated', fontsize=12)\n",
    "plt.ylabel('Average Rating', fontsize=12)\n",
    "plt.xscale('log')  # Logarithmic scale for better visualization\n",
    "plt.tight_layout()\n",
    "plt.show()\n",
    "\n",
    "\n",
    "# 4. Comparison of owned_users versus play_time\n",
    "plt.figure(figsize=(10, 6))\n",
    "sns.scatterplot(x='play_time', y='owned_users', data=df_clean, alpha=0.6)\n",
    "plt.title('Relationship Between Play Time and Popularity', fontsize=14)\n",
    "plt.xlabel('Play Time (minutes)', fontsize=12)\n",
    "plt.ylabel('Number of Users Owning the Game', fontsize=12)\n",
    "plt.xscale('log')  # Logarithmic scale for better visualization\n",
    "plt.yscale('log')  # Logarithmic scale for better visualization\n",
    "plt.tight_layout()\n",
    "plt.show()\n",
    "\n",
    "\n",
    "# 5. Distribution of min_age\n",
    "plt.figure(figsize=(10, 6))\n",
    "# Convert min_age to category for a bar chart\n",
    "age_counts = df_clean['min_age'].value_counts().sort_index()\n",
    "sns.barplot(x=age_counts.index, y=age_counts.values, palette='viridis')\n",
    "plt.title('Distribution of Minimum Recommended Ages', fontsize=14)\n",
    "plt.xlabel('Minimum Age', fontsize=12)\n",
    "plt.ylabel('Number of Games', fontsize=12)\n",
    "plt.xticks(rotation=45)\n",
    "plt.tight_layout()\n",
    "plt.show()\n"
   ]
  },
  {
   "cell_type": "code",
   "execution_count": null,
   "id": "67",
   "metadata": {},
   "outputs": [],
   "source": [
    "# Import visualization libraries\n",
    "import plotly.express as px\n",
    "import plotly.graph_objects as go"
   ]
  },
  {
   "cell_type": "code",
   "execution_count": null,
   "id": "68",
   "metadata": {},
   "outputs": [],
   "source": [
    "# 1. Rating Distribution\n",
    "fig = px.histogram(df_clean, x='rating_average', nbins=20, color_discrete_sequence=['darkblue'],\n",
    "                  histnorm='probability density')\n",
    "\n",
    "# Add density curve\n",
    "hist_data = np.histogram(df_clean['rating_average'].dropna(), bins=20)\n",
    "bin_centers = (hist_data[1][:-1] + hist_data[1][1:]) / 2\n",
    "fig.add_trace(go.Scatter(x=bin_centers, y=hist_data[0]/sum(hist_data[0]), mode='lines', \n",
    "                        name='Density', line=dict(color='red', width=2, shape='spline')))\n",
    "\n",
    "fig.update_layout(\n",
    "    title=\"Distribution of Average Ratings\",\n",
    "    xaxis_title=\"Average Rating\",\n",
    "    yaxis_title=\"Number of Games\",\n",
    "    template=\"plotly_white\"\n",
    ")\n",
    "fig.show()"
   ]
  },
  {
   "cell_type": "code",
   "execution_count": null,
   "id": "69",
   "metadata": {},
   "outputs": [],
   "source": [
    "# 2. Complexity vs Rating\n",
    "fig = px.scatter(df_clean, x='complexity_average', y='rating_average', opacity=0.7)\n",
    "fig.update_layout(title=\"Relationship Between Complexity and Average Rating\")\n",
    "fig.show()"
   ]
  },
  {
   "cell_type": "code",
   "execution_count": null,
   "id": "70",
   "metadata": {},
   "outputs": [],
   "source": [
    "# 3. Popularity vs Rating\n",
    "fig = px.scatter(df_clean, x='users_rated', y='rating_average', opacity=0.6)\n",
    "fig.update_layout(title=\"Relationship Between Popularity and Average Rating\", xaxis_type=\"log\")\n",
    "fig.show()"
   ]
  },
  {
   "cell_type": "code",
   "execution_count": null,
   "id": "71",
   "metadata": {},
   "outputs": [],
   "source": [
    "# 4. Play Time vs Ownership\n",
    "fig = px.scatter(df_clean, x='play_time', y='owned_users', opacity=0.6)\n",
    "fig.update_layout(title=\"Relationship Between Play Time and Popularity\",\n",
    "                 xaxis_type=\"log\", yaxis_type=\"log\")\n",
    "fig.show()"
   ]
  },
  {
   "cell_type": "code",
   "execution_count": null,
   "id": "72",
   "metadata": {},
   "outputs": [],
   "source": [
    "# 5. Evolution by Year\n",
    "# Filter out extreme years\n",
    "filtered_df = df_clean[(df_clean['year'] >= 1950) & (df_clean['year'] <= 2023)]\n",
    "# Count games by year\n",
    "yearly_counts = filtered_df['year'].value_counts().sort_index().reset_index()\n",
    "yearly_counts.columns = ['Year', 'Count']\n",
    "# Create line chart\n",
    "fig = px.line(yearly_counts, x='Year', y='Count', markers=True)\n",
    "fig.update_layout(\n",
    "    title=\"Evolution of Games Published by Year\",\n",
    "    xaxis_title=\"Year Published\", \n",
    "    yaxis_title=\"Number of Games\"\n",
    ")\n",
    "fig.show()"
   ]
  },
  {
   "cell_type": "code",
   "execution_count": null,
   "id": "73",
   "metadata": {},
   "outputs": [],
   "source": [
    "# we have numerous categorical values to encode: 19,974 for name, 7,379 for mechanics, and 40 for domains. To maintain a simple basic model, I removed the name column\n",
    "df_clean.drop(columns=['name'], inplace=True)\n",
    "df_clean.columns"
   ]
  },
  {
   "cell_type": "markdown",
   "id": "74",
   "metadata": {},
   "source": [
    "The function below enable us to check for duplicates in the DataFrame columns (**[source](https://stackoverflow.com/questions/75394033/pipeline-columntransformer-valueerror-selected-columns-are-not-unique-in-dat)**). If there are, you might encounter mistakes on the cross_validation."
   ]
  },
  {
   "cell_type": "code",
   "execution_count": null,
   "id": "75",
   "metadata": {},
   "outputs": [],
   "source": [
    "def list_duplicates(seq):\n",
    "  \"\"\"A stack overflow solution to look for a duplicate in a string list\"\"\"\n",
    "  seen = set()\n",
    "  seen_add = seen.add\n",
    "  # adds all elements it doesn't know yet to seen and all other to seen_twice\n",
    "  seen_twice = set( x for x in seq if x in seen or seen_add(x) )\n",
    "  # turn the set into a list (as requested)\n",
    "  return list( seen_twice )\n",
    "\n",
    "list_duplicates(df_clean.columns)"
   ]
  },
  {
   "cell_type": "code",
   "execution_count": null,
   "id": "76",
   "metadata": {},
   "outputs": [],
   "source": [
    "# Split data into features (X) and target (y)\n",
    "# We want to predict Average Ratings\n",
    "X = df_clean.drop('rating_average', axis=1)\n",
    "y = df_clean['rating_average']"
   ]
  },
  {
   "cell_type": "code",
   "execution_count": null,
   "id": "77",
   "metadata": {},
   "outputs": [],
   "source": [
    "# Split into training and testing sets\n",
    "X_train, X_test, y_train, y_test = train_test_split(X, y, test_size=0.2, random_state=42)"
   ]
  },
  {
   "cell_type": "code",
   "execution_count": null,
   "id": "78",
   "metadata": {},
   "outputs": [],
   "source": [
    "X_train.shape, X_test.shape, y_train.shape, y_test.shape"
   ]
  },
  {
   "cell_type": "markdown",
   "id": "79",
   "metadata": {},
   "source": [
    "#### categorical features"
   ]
  },
  {
   "cell_type": "code",
   "execution_count": null,
   "id": "80",
   "metadata": {},
   "outputs": [],
   "source": [
    "df_clean.select_dtypes(include=[\"object\"]).nunique().sort_values(ascending=False)"
   ]
  },
  {
   "cell_type": "code",
   "execution_count": null,
   "id": "81",
   "metadata": {},
   "outputs": [],
   "source": [
    "categorical_features_unique = df_clean.select_dtypes(include=[\"object\"]).nunique()\n",
    "categorical_features_unique.sum()"
   ]
  },
  {
   "cell_type": "code",
   "execution_count": null,
   "id": "82",
   "metadata": {},
   "outputs": [],
   "source": [
    "preproc_categorical_baseline = make_pipeline(\n",
    "    SimpleImputer(strategy=\"most_frequent\"),\n",
    "    OneHotEncoder(handle_unknown=\"ignore\", drop=\"if_binary\", sparse_output=False)\n",
    ")\n",
    "\n",
    "preproc_categorical_baseline"
   ]
  },
  {
   "cell_type": "markdown",
   "id": "83",
   "metadata": {},
   "source": [
    "#### numerical features"
   ]
  },
  {
   "cell_type": "code",
   "execution_count": null,
   "id": "84",
   "metadata": {},
   "outputs": [],
   "source": [
    "preproc_numerical_baseline = make_pipeline(\n",
    "    SimpleImputer(),\n",
    "    MinMaxScaler()\n",
    ")\n",
    "\n",
    "preproc_numerical_baseline"
   ]
  },
  {
   "cell_type": "code",
   "execution_count": null,
   "id": "85",
   "metadata": {},
   "outputs": [],
   "source": [
    "preproc_baseline = ColumnTransformer([\n",
    "    (\"num_transform\", preproc_numerical_baseline, make_column_selector(dtype_include=np.number)),\n",
    "    (\"cat_transform\", preproc_categorical_baseline, make_column_selector(dtype_exclude=np.number))\n",
    "]).set_output(transform=\"pandas\")"
   ]
  },
  {
   "cell_type": "code",
   "execution_count": null,
   "id": "86",
   "metadata": {},
   "outputs": [],
   "source": [
    "pipeline_baseline = make_pipeline(preproc_baseline, DecisionTreeRegressor(max_depth=5))\n",
    "pipeline_baseline"
   ]
  },
  {
   "cell_type": "code",
   "execution_count": null,
   "id": "87",
   "metadata": {},
   "outputs": [],
   "source": [
    "cv_score = cross_val_score(pipeline_baseline, X_train, y_train, cv=5).mean()\n",
    "print(f\"Cross-validation score: {cv_score}\")"
   ]
  },
  {
   "cell_type": "code",
   "execution_count": null,
   "id": "88",
   "metadata": {},
   "outputs": [],
   "source": [
    "#pipeline_baseline.get_params()"
   ]
  },
  {
   "cell_type": "code",
   "execution_count": null,
   "id": "89",
   "metadata": {},
   "outputs": [],
   "source": [
    "pipeline_baseline.fit(X_train, y_train)"
   ]
  },
  {
   "cell_type": "code",
   "execution_count": null,
   "id": "90",
   "metadata": {},
   "outputs": [],
   "source": [
    "# Make predictions\n",
    "y_pred = pipeline_baseline.predict(X_test)"
   ]
  },
  {
   "cell_type": "markdown",
   "id": "91",
   "metadata": {},
   "source": [
    "Evaluate the model on the test set"
   ]
  },
  {
   "cell_type": "code",
   "execution_count": null,
   "id": "92",
   "metadata": {},
   "outputs": [],
   "source": [
    "mae = metrics.mean_absolute_error(y_test, y_pred)\n",
    "mse = metrics.mean_squared_error(y_test, y_pred)\n",
    "rmse = mse ** 0.5\n",
    "\n",
    "print(f\"MAE: {mae}, MSE: {mse}, RMSE: {rmse}\")"
   ]
  },
  {
   "cell_type": "code",
   "execution_count": null,
   "id": "93",
   "metadata": {},
   "outputs": [],
   "source": [
    "import pickle\n",
    "models_path = os.path.expanduser(\"~/code/maxencedauphin/bgg-project/models\")\n",
    "pickle_file_path = os.path.join(models_path, \"pipeline_baseline.pkl\")\n",
    "\n",
    "if not os.path.exists(models_path):\n",
    "        os.makedirs(models_path)\n",
    "# Export Pipeline as pickle file\n",
    "with open(pickle_file_path, \"wb\") as file:\n",
    "    pickle.dump(pipeline_baseline, file)\n",
    "\n",
    "print(f\"Model saved to: {pickle_file_path}\")"
   ]
  },
  {
   "cell_type": "code",
   "execution_count": null,
   "id": "94",
   "metadata": {},
   "outputs": [],
   "source": []
  }
 ],
 "metadata": {
  "kernelspec": {
   "display_name": "bgg",
   "language": "python",
   "name": "python3"
  },
  "language_info": {
   "codemirror_mode": {
    "name": "ipython",
    "version": 3
   },
   "file_extension": ".py",
   "mimetype": "text/x-python",
   "name": "python",
   "nbconvert_exporter": "python",
   "pygments_lexer": "ipython3",
   "version": "3.10.6"
  }
 },
 "nbformat": 4,
 "nbformat_minor": 5
}
